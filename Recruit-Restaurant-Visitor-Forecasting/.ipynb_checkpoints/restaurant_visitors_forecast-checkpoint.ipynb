{
 "cells": [
  {
   "cell_type": "markdown",
   "metadata": {},
   "source": [
    "# Recruit Restaurant Visitor Forecasting"
   ]
  },
  {
   "cell_type": "markdown",
   "metadata": {},
   "source": [
    "This competition consisted in predicting the number of restaurants visitors per day based on the number of visitors and \n",
    "reservation data from two different sites.\n",
    "\n",
    "The data composed from 7 files. \n",
    "1. air_reserve.csv : the reservation data on the air site\n",
    "2. air_store_info.csv : the ids and information about the restuarants on air site\n",
    "3. air_visit_data.csv : the number of visitors of each restaurant\n",
    "4. date_info.csv : Information about dates (day of week, holiday flag)\n",
    "5. hpg_reserve.csv : the reservation data on the hpg site\n",
    "6. hpg_store_info.csv : information of the restaurants on the hpg site\n",
    "7. store_id_relation.csv : the file contains the mapping of the ids restaurants of the air to those of the hpg site"
   ]
  },
  {
   "cell_type": "markdown",
   "metadata": {},
   "source": [
    "Let's load the python librairies that we are going to use."
   ]
  },
  {
   "cell_type": "code",
   "execution_count": 1,
   "metadata": {},
   "outputs": [],
   "source": [
    "import pandas as pd\n",
    "import numpy as np\n",
    "import seaborn as sns\n",
    "from scipy import stats\n",
    "from scipy.stats import norm, skew\n",
    "import matplotlib.pyplot as plt\n",
    "from datetime import timedelta"
   ]
  },
  {
   "cell_type": "markdown",
   "metadata": {},
   "source": [
    "## Loading Data"
   ]
  },
  {
   "cell_type": "markdown",
   "metadata": {},
   "source": [
    "Now, we are going to load the data from the different files and store them in one dictionnary "
   ]
  },
  {
   "cell_type": "code",
   "execution_count": 2,
   "metadata": {},
   "outputs": [],
   "source": [
    "df_dict = dict()\n",
    "def load_data(file_name):\n",
    "    df = pd.read_csv(\"data/\" + file_name + \".csv\")\n",
    "    df_dict[file_name] = df"
   ]
  },
  {
   "cell_type": "code",
   "execution_count": 3,
   "metadata": {},
   "outputs": [],
   "source": [
    "file_names = ['air_reserve', \"air_store_info\", \"air_visit_data\", \"date_info\",\n",
    "                              \"hpg_reserve\", \"hpg_store_info\", \"store_id_relation\"]\n",
    "\n",
    "[load_data(file_name) for file_name in file_names];"
   ]
  },
  {
   "cell_type": "markdown",
   "metadata": {},
   "source": [
    "## Explanatory Data Analysis"
   ]
  },
  {
   "cell_type": "markdown",
   "metadata": {},
   "source": [
    "First, we explore the features of each file."
   ]
  },
  {
   "cell_type": "code",
   "execution_count": 4,
   "metadata": {},
   "outputs": [
    {
     "name": "stdout",
     "output_type": "stream",
     "text": [
      "air_reserve has 4 features and 92378 instanes\n",
      "air_store_info has 5 features and 829 instanes\n",
      "air_visit_data has 3 features and 252108 instanes\n",
      "date_info has 3 features and 517 instanes\n",
      "hpg_reserve has 4 features and 2000320 instanes\n",
      "hpg_store_info has 5 features and 4690 instanes\n",
      "store_id_relation has 2 features and 150 instanes\n"
     ]
    }
   ],
   "source": [
    "for file_name in file_names:\n",
    "    print(file_name ,\"has\", len(df_dict[file_name].columns) ,\"features and\", len(df_dict[file_name]), \"instanes\")"
   ]
  },
  {
   "cell_type": "markdown",
   "metadata": {},
   "source": [
    "Now we know the structure of each dataframe. We need to see the target we are going to predict. First, we are going to make a necessary data processing to make the analysis properly. We have to change the date columns to datetime"
   ]
  },
  {
   "cell_type": "code",
   "execution_count": 5,
   "metadata": {},
   "outputs": [
    {
     "data": {
      "text/plain": [
       "Index(['hpg_store_id', 'visit_datetime', 'reserve_datetime',\n",
       "       'reserve_visitors'],\n",
       "      dtype='object')"
      ]
     },
     "execution_count": 5,
     "metadata": {},
     "output_type": "execute_result"
    }
   ],
   "source": [
    "df_dict['hpg_reserve'].columns"
   ]
  },
  {
   "cell_type": "code",
   "execution_count": 6,
   "metadata": {},
   "outputs": [],
   "source": [
    "df_dict['air_visit_data']['visit_date'] = pd.to_datetime(df_dict['air_visit_data']['visit_date'])\n",
    "df_dict['date_info']['calendar_date'] = pd.to_datetime(df_dict['date_info']['calendar_date'])\n",
    "df_dict['air_reserve']['visit_datetime'] = pd.to_datetime(df_dict['air_reserve']['visit_datetime'])\n",
    "df_dict['air_reserve']['reserve_datetime'] = pd.to_datetime(df_dict['air_reserve']['reserve_datetime'])\n",
    "df_dict['hpg_reserve']['visit_datetime'] = pd.to_datetime(df_dict['hpg_reserve']['visit_datetime'])\n",
    "df_dict['hpg_reserve']['reserve_datetime'] = pd.to_datetime(df_dict['hpg_reserve']['reserve_datetime'])"
   ]
  },
  {
   "cell_type": "markdown",
   "metadata": {},
   "source": [
    "Let's check if there is any missing data."
   ]
  },
  {
   "cell_type": "markdown",
   "metadata": {},
   "source": [
    "### Missing data"
   ]
  },
  {
   "cell_type": "code",
   "execution_count": 7,
   "metadata": {},
   "outputs": [],
   "source": [
    "def miss_ratio(df):\n",
    "    miss_ratio = 100 * df.isnull().sum() / len(df)\n",
    "    miss_ratio = pd.DataFrame(miss_ratio, columns=['miss_ratio'])\n",
    "    miss_ratio.reset_index(inplace=True)\n",
    "    miss_ratio = miss_ratio.rename(columns={'index': 'features'})\n",
    "    miss_ratio = miss_ratio[miss_ratio['miss_ratio'] != 0].round(2).sort_values('miss_ratio', ascending=False)\n",
    "    return miss_ratio"
   ]
  },
  {
   "cell_type": "code",
   "execution_count": 8,
   "metadata": {},
   "outputs": [],
   "source": [
    "miss_ratio_dict = dict()\n",
    "for data in df_dict.keys():\n",
    "    miss_ratio_dict[data] = miss_ratio(df_dict[data])"
   ]
  },
  {
   "cell_type": "code",
   "execution_count": 9,
   "metadata": {},
   "outputs": [
    {
     "data": {
      "text/plain": [
       "[Empty DataFrame\n",
       " Columns: [features, miss_ratio]\n",
       " Index: [], Empty DataFrame\n",
       " Columns: [features, miss_ratio]\n",
       " Index: [], Empty DataFrame\n",
       " Columns: [features, miss_ratio]\n",
       " Index: [], Empty DataFrame\n",
       " Columns: [features, miss_ratio]\n",
       " Index: [], Empty DataFrame\n",
       " Columns: [features, miss_ratio]\n",
       " Index: [], Empty DataFrame\n",
       " Columns: [features, miss_ratio]\n",
       " Index: [], Empty DataFrame\n",
       " Columns: [features, miss_ratio]\n",
       " Index: []]"
      ]
     },
     "execution_count": 9,
     "metadata": {},
     "output_type": "execute_result"
    }
   ],
   "source": [
    "[miss_ratio_dict[data].head(5) for data in miss_ratio_dict.keys()]"
   ]
  },
  {
   "cell_type": "markdown",
   "metadata": {},
   "source": [
    "Apparently there is no missing data. But, we still have to check if we have, for each restaurant, the number of visitors in all days of the time periode in the training dataset."
   ]
  },
  {
   "cell_type": "code",
   "execution_count": 10,
   "metadata": {},
   "outputs": [
    {
     "name": "stdout",
     "output_type": "stream",
     "text": [
      "0 restaurants with all days records Series([], Name: air_store_id, dtype: object)\n"
     ]
    }
   ],
   "source": [
    "first_date = df_dict['air_visit_data']['visit_date'].min()\n",
    "last_date = df_dict['air_visit_data']['visit_date'].max()\n",
    "\n",
    "days_numb = (last_date - first_date).days + 1\n",
    "days_rest = df_dict['air_visit_data'].groupby(by='air_store_id', as_index=False)['visit_date'].count()\n",
    "rest_all_dates = days_rest[days_rest.visit_date == days_numb]['air_store_id']\n",
    "print(len(rest_all_dates), \"restaurants with all days records\", rest_all_dates)"
   ]
  },
  {
   "cell_type": "markdown",
   "metadata": {},
   "source": [
    "All the restaurants do not have all days records. We must replace missing value of each day with median of visitors number in the same week day."
   ]
  },
  {
   "cell_type": "code",
   "execution_count": 11,
   "metadata": {},
   "outputs": [],
   "source": [
    "# return the list of the days\n",
    "def days_list(start, end, delta):\n",
    "    all_days = list()\n",
    "    curr = start\n",
    "    while curr < end:\n",
    "        all_days.append(curr)\n",
    "        curr += delta\n",
    "    return all_days\n",
    "\n",
    "all_days = days_list(first_date, last_date, timedelta(days=1))\n",
    "\n",
    "\n",
    "# return the list of missing days for a restaurant\n",
    "def miss_dates(store_id):\n",
    "    df = df_dict['air_visit_data']\n",
    "    store_days = df[df.air_store_id == store_id]['visit_date'].tolist()\n",
    "    return [date for date in all_days if date not in store_days]\n",
    "\n",
    "# add the missing data of a restaurant to the main dataframe\n",
    "def add_to_df(store_id):\n",
    "    days = miss_dates(store_id)\n",
    "    store_id = [store_id for i in range(len(days))]\n",
    "    visitors = [np.nan for i in range(len(days))]\n",
    "    add_dict = {'air_store_id': store_id, 'visit_date': days, 'visitors': visitors}\n",
    "    add_df = pd.DataFrame(add_dict)\n",
    "    df_dict['air_visit_data'] = pd.concat([df_dict['air_visit_data'], add_df], ignore_index=True, axis=0)"
   ]
  },
  {
   "cell_type": "code",
   "execution_count": 12,
   "metadata": {},
   "outputs": [],
   "source": [
    "[add_to_df(store_id) for store_id in df_dict['air_visit_data']];"
   ]
  },
  {
   "cell_type": "markdown",
   "metadata": {},
   "source": [
    "## Target"
   ]
  },
  {
   "cell_type": "code",
   "execution_count": 13,
   "metadata": {},
   "outputs": [
    {
     "name": "stdout",
     "output_type": "stream",
     "text": [
      "\n",
      " mu = 20.97 and sigma = 16.76\n",
      "\n"
     ]
    },
    {
     "data": {
      "image/png": "[encoded data removed]",
      "text/plain": [
       "<matplotlib.figure.Figure at 0x27445c557f0>"
      ]
     },
     "metadata": {},
     "output_type": "display_data"
    },
    {
     "data": {
      "image/png": "[encoded data removed]",
      "text/plain": [
       "<matplotlib.figure.Figure at 0x27445c55be0>"
      ]
     },
     "metadata": {},
     "output_type": "display_data"
    }
   ],
   "source": [
    "df = df_dict['air_visit_data'].dropna()\n",
    "f, ax = plt.subplots(figsize=(6,6))\n",
    "sns.distplot(df['visitors'], fit=norm)\n",
    "\n",
    "(mu, sigma) = norm.fit(df['visitors'])\n",
    "print( '\\n mu = {:.2f} and sigma = {:.2f}\\n'.format(mu, sigma))\n",
    "\n",
    "#Now plot the distribution\n",
    "plt.legend(['Normal dist. ($\\mu=$ {:.2f} and $\\sigma=$ {:.2f} )'.format(mu, sigma)],\n",
    "            loc='best')\n",
    "plt.ylabel('Frequency')\n",
    "plt.title('Visitors distribution')\n",
    "\n",
    "#Get also the QQ-plot\n",
    "fig = plt.figure()\n",
    "res = stats.probplot(df['visitors'], plot=plt)\n",
    "plt.show()"
   ]
  },
  {
   "cell_type": "markdown",
   "metadata": {},
   "source": [
    "The distribution is slightly skewed and it seems that some outliers exist in the data. So, first let's try to spot ouliers comparing the number of visitors in each day to the mean of number of visitors of the same day of week."
   ]
  },
  {
   "cell_type": "markdown",
   "metadata": {},
   "source": [
    "### Outliers"
   ]
  },
  {
   "cell_type": "code",
   "execution_count": 14,
   "metadata": {},
   "outputs": [],
   "source": [
    "df_visit = df_dict['air_visit_data'].merge(df_dict['date_info'], left_on='visit_date' , right_on='calendar_date', how='inner')\n",
    "df_visit.drop('calendar_date', inplace=True, axis=1)\n",
    "df_mean = df_visit.groupby(by=['air_store_id','day_of_week'], as_index=False)['visitors'].mean()\n",
    "df_mean = df_mean.rename(columns={'visitors': 'mean_visitors'})\n",
    "df_visit_mean = df_visit.merge(df_mean, on=['air_store_id', 'day_of_week'], how='inner')\n",
    "df_visit_mean = df_visit_mean.sort_values('visit_date')"
   ]
  },
  {
   "cell_type": "code",
   "execution_count": 15,
   "metadata": {},
   "outputs": [
    {
     "data": {
      "text/plain": [
       "<seaborn.axisgrid.JointGrid at 0x2744697a710>"
      ]
     },
     "execution_count": 15,
     "metadata": {},
     "output_type": "execute_result"
    },
    {
     "data": {
      "image/png": "[encoded data removed]",
      "text/plain": [
       "<matplotlib.figure.Figure at 0x2744697ae48>"
      ]
     },
     "metadata": {},
     "output_type": "display_data"
    }
   ],
   "source": [
    "sns.jointplot(x='visitors', y='mean_visitors', data=df_visit_mean)"
   ]
  },
  {
   "cell_type": "markdown",
   "metadata": {},
   "source": [
    "There is no clear outliers in the data. So, we will keep all the points. Let's apply the log1p numpy function to the target."
   ]
  },
  {
   "cell_type": "code",
   "execution_count": null,
   "metadata": {},
   "outputs": [
    {
     "name": "stdout",
     "output_type": "stream",
     "text": [
      "\n",
      " mu = 2.80 and sigma = 0.81\n",
      "\n"
     ]
    },
    {
     "data": {
      "image/png": "[encoded data removed]",
      "text/plain": [
       "<matplotlib.figure.Figure at 0x27445e2b400>"
      ]
     },
     "metadata": {},
     "output_type": "display_data"
    },
    {
     "data": {
      "image/png": "[encoded data removed]",
      "text/plain": [
       "<matplotlib.figure.Figure at 0x27445ebb748>"
      ]
     },
     "metadata": {},
     "output_type": "display_data"
    }
   ],
   "source": [
    "df_visit_mean['visitors'] = np.log1p(df_visit_mean['visitors'])\n",
    "df = df_visit_mean.dropna()\n",
    "f, ax = plt.subplots(figsize=(6,6))\n",
    "sns.distplot(df['visitors'], fit=norm)\n",
    "\n",
    "(mu, sigma) = norm.fit(df['visitors'])\n",
    "print( '\\n mu = {:.2f} and sigma = {:.2f}\\n'.format(mu, sigma))\n",
    "\n",
    "#Now plot the distribution\n",
    "plt.legend(['Normal dist. ($\\mu=$ {:.2f} and $\\sigma=$ {:.2f} )'.format(mu, sigma)],\n",
    "            loc='best')\n",
    "plt.ylabel('Frequency')\n",
    "plt.title('Visitors distribution')\n",
    "\n",
    "#Get also the QQ-plot\n",
    "fig = plt.figure()\n",
    "res = stats.probplot(df['visitors'], plot=plt)\n",
    "plt.show()"
   ]
  },
  {
   "cell_type": "markdown",
   "metadata": {},
   "source": [
    "Now the distribution is much more normally distributed. "
   ]
  },
  {
   "cell_type": "markdown",
   "metadata": {},
   "source": [
    "### Imputing missing data"
   ]
  },
  {
   "cell_type": "markdown",
   "metadata": {},
   "source": [
    "Now, we are going to replace missing data for each date with the mean of the same week day."
   ]
  },
  {
   "cell_type": "code",
   "execution_count": null,
   "metadata": {},
   "outputs": [
    {
     "name": "stderr",
     "output_type": "stream",
     "text": [
      "C:\\Users\\Narjes\\Anaconda\\lib\\site-packages\\ipykernel_launcher.py:6: SettingWithCopyWarning: \n",
      "A value is trying to be set on a copy of a slice from a DataFrame\n",
      "\n",
      "See the caveats in the documentation: http://pandas.pydata.org/pandas-docs/stable/indexing.html#indexing-view-versus-copy\n",
      "  \n"
     ]
    }
   ],
   "source": [
    "import math\n",
    "for i, visitors in enumerate(df_visit_mean['visitors']):\n",
    "    if math.isnan(visitors):\n",
    "        df_visit_mean['visitors'][i] = df_visit_mean[\n",
    "                    (df_visit_mean['day_of_week'] == df_visit_mean['day_of_week'][i]) &\n",
    "                    (df_visit_mean['air_store_id'] == df_visit_mean['air_store_id'][i])]['mean_visitors'].unique()[0]"
   ]
  },
  {
   "cell_type": "markdown",
   "metadata": {},
   "source": [
    "## Features engineering"
   ]
  },
  {
   "cell_type": "markdown",
   "metadata": {},
   "source": [
    "Before we go deep in the analysis, let's check the restaurants that we should predict their number of visitors, since the number of restaurants in air and hpg sites are diffrent 829 in air and more than 4000 in hpg."
   ]
  },
  {
   "cell_type": "code",
   "execution_count": null,
   "metadata": {},
   "outputs": [],
   "source": [
    "restaurants = df_visit_mean['air_store_id'].unique()\n",
    "print(len(restaurants), \"restaurants\")\n",
    "air_restaurants_reserve = df_dict['air_reserve']['air_store_id'].unique()\n",
    "print(len(air_restaurants_reserve), \"restaurants in air reserve\")\n",
    "hpg_restaurants_reserve = df_dict['hpg_reserve']['hpg_store_id'].unique()\n",
    "print(len(hpg_restaurants_reserve), \"restaurants in hpg reserve\")\n",
    "air_restaurants = df_dict['air_store_info']['air_store_id'].unique()\n",
    "print(len(air_restaurants), \"restaurants in air store info\")\n",
    "hpg_restaurants = df_dict['hpg_store_info']['hpg_store_id'].unique()\n",
    "print(len(hpg_restaurants), \"restaurants in hpg store info\")"
   ]
  },
  {
   "cell_type": "markdown",
   "metadata": {},
   "source": [
    "We have to predict the number of visitors of 829 restaurants. In air site we have the reservation data of only 314.\n",
    "So, normally the reservation data of the rest of the restaurants must be in hpg reservation data. Thus, we need the file\n",
    "store_id_relation to get the ids of the restaurants on the hpg reservation data. It may be possible to have reservations from both sites for the same restaurant let's check this now if it is true."
   ]
  },
  {
   "cell_type": "code",
   "execution_count": null,
   "metadata": {},
   "outputs": [],
   "source": [
    "hpg_restaurants_air = df_dict['hpg_reserve'].merge(df_dict['store_id_relation'], on='hpg_store_id', how='inner')\n",
    "air_eq_restaurants = hpg_restaurants_air.air_store_id.unique()\n",
    "rests_resv_both_platf = [rest for rest in air_restaurants_reserve if rest in air_eq_restaurants]\n",
    "print(len(rests_resv_both_platf), \"restaurants with reservations made on both platforms\")"
   ]
  },
  {
   "cell_type": "markdown",
   "metadata": {},
   "source": [
    "For 131 restaurants, the reservation are made on air site and hpg site. Now, we are going to add the reservation data to the main dataframe we are using df_visit_mean."
   ]
  },
  {
   "cell_type": "code",
   "execution_count": null,
   "metadata": {},
   "outputs": [],
   "source": [
    "def add_time_date_columns(df, column, date_col_name, time_col_name):\n",
    "    if df[column].dtypes == 'datetime64[ns]':\n",
    "        df[time_col_name] = df[column].transform(lambda x: x.time().hour)\n",
    "        df[date_col_name] = df[column].transform(lambda x: x.date())\n",
    "    else :\n",
    "        print('Error')\n",
    "\n",
    "add_time_date_columns(df_dict['air_reserve'], 'visit_datetime', 'visit_date', 'visit_hour')\n",
    "add_time_date_columns(df_dict['hpg_reserve'], 'visit_datetime', 'visit_date', 'visit_hour')\n",
    "add_time_date_columns(df_dict['air_reserve'], 'reserve_datetime', 'reserve_date', 'reserve_hour')\n",
    "add_time_date_columns(df_dict['hpg_reserve'], 'reserve_datetime', 'reserve_date', 'reserve_hour')"
   ]
  },
  {
   "cell_type": "markdown",
   "metadata": {},
   "source": [
    "A probably interesting feature to add to the reservation data is the diffrence in hours between the reservation time\n",
    "and the visit time."
   ]
  },
  {
   "cell_type": "code",
   "execution_count": null,
   "metadata": {},
   "outputs": [],
   "source": [
    "df_dict['air_reserve']['time_diff'] = df_dict['air_reserve']['visit_datetime'] - df_dict['air_reserve']['reserve_datetime'] \n",
    "df_dict['hpg_reserve']['time_diff'] = df_dict['hpg_reserve']['visit_datetime'] - df_dict['hpg_reserve']['reserve_datetime'] \n",
    "df_dict['air_reserve']['time_diff'] = df_dict['air_reserve']['time_diff'].apply(lambda x: (x.days * 24) + (x.seconds / 3600))\n",
    "df_dict['hpg_reserve']['time_diff'] = df_dict['hpg_reserve']['time_diff'].apply(lambda x: (x.days * 24) + (x.seconds / 3600))"
   ]
  },
  {
   "cell_type": "code",
   "execution_count": null,
   "metadata": {},
   "outputs": [],
   "source": [
    "sns.jointplot(x='time_diff', y='reserve_visitors', data=df_dict['air_reserve'])\n",
    "sns.jointplot(x='time_diff', y='reserve_visitors', data=df_dict['hpg_reserve'])"
   ]
  },
  {
   "cell_type": "markdown",
   "metadata": {},
   "source": [
    "Based on these visualizations there is no correlation between the number of visitors  in the reservation and the difference between the reservation time and visit time. Let's now see if the number of visitors in each reservervation is correlated to the hour the visite."
   ]
  },
  {
   "cell_type": "code",
   "execution_count": null,
   "metadata": {},
   "outputs": [],
   "source": [
    "f, ax = plt.subplots(figsize=(15,7))\n",
    "sns.boxplot(x='visit_hour', y='reserve_visitors', data=df_dict['air_reserve'])"
   ]
  },
  {
   "cell_type": "code",
   "execution_count": null,
   "metadata": {},
   "outputs": [],
   "source": [
    "f, ax = plt.subplots(figsize=(15,7))\n",
    "sns.boxplot(x='visit_hour', y='reserve_visitors', data=df_dict['hpg_reserve'])"
   ]
  },
  {
   "cell_type": "markdown",
   "metadata": {},
   "source": [
    "In the two reservation datasets, there is an association between the visit hour and the number of visitors : a curve association. Thus, we can use the median of the visit hour in each day as new feature."
   ]
  },
  {
   "cell_type": "code",
   "execution_count": null,
   "metadata": {},
   "outputs": [],
   "source": [
    "df_dict['air_reserve'].drop(['visit_datetime', 'reserve_datetime'], inplace=True, axis=1)\n",
    "df_dict['hpg_reserve'].drop(['visit_datetime', 'reserve_datetime'], inplace=True, axis=1)"
   ]
  },
  {
   "cell_type": "code",
   "execution_count": null,
   "metadata": {},
   "outputs": [],
   "source": [
    "def reserve_features(df, col):\n",
    "    df_sum = df.groupby(by=[col,'visit_date'], as_index=False)['reserve_visitors'].sum()\n",
    "    df_median = df.groupby(by=[col,'visit_date'], \n",
    "                        as_index=False)['visit_hour', 'time_diff','reserve_visitors'].median().rename(\n",
    "                        columns={'visit_hour':'visit_hour_median', 'time_diff':'time_diff_median',\n",
    "                                                         'reserve_visitors':'reserve_visitors_median'})\n",
    "    return df_sum.merge(df_median, on=[col,'visit_date'], how='inner')\n",
    "\n",
    "air_feat_df = reserve_features(df_dict['air_reserve'], 'air_store_id')\n",
    "hpg_feat_df = reserve_features(df_dict['hpg_reserve'], 'hpg_store_id')\n",
    "df_visit_mean['visit_date'] = df_visit_mean['visit_date'].transform(lambda x: x.date())"
   ]
  },
  {
   "cell_type": "code",
   "execution_count": null,
   "metadata": {},
   "outputs": [],
   "source": [
    "main_df = df_visit_mean.merge(air_feat_df, on=['air_store_id', 'visit_date'], how='left')"
   ]
  },
  {
   "cell_type": "markdown",
   "metadata": {},
   "source": [
    "Now, we have to use the mapping of air ids and hpg ids to add the hpg reservation data."
   ]
  },
  {
   "cell_type": "code",
   "execution_count": null,
   "metadata": {},
   "outputs": [],
   "source": [
    "hpg_feat_df = hpg_feat_df.merge(df_dict['store_id_relation'], on='hpg_store_id', how='inner')\n",
    "hpg_feat_df.drop('hpg_store_id', inplace=True, axis=1)"
   ]
  },
  {
   "cell_type": "code",
   "execution_count": null,
   "metadata": {},
   "outputs": [],
   "source": [
    "main_df = main_df.merge(hpg_feat_df, on=['air_store_id','visit_date'], how='outer')"
   ]
  },
  {
   "cell_type": "markdown",
   "metadata": {},
   "source": [
    "## Machine learning models"
   ]
  },
  {
   "cell_type": "markdown",
   "metadata": {},
   "source": [
    "### Baseline model"
   ]
  },
  {
   "cell_type": "markdown",
   "metadata": {},
   "source": [
    "### Advanced models"
   ]
  },
  {
   "cell_type": "markdown",
   "metadata": {},
   "source": [
    "### Stacking model"
   ]
  }
 ],
 "metadata": {
  "kernelspec": {
   "display_name": "Python 3",
   "language": "python",
   "name": "python3"
  },
  "language_info": {
   "codemirror_mode": {
    "name": "ipython",
    "version": 3
   },
   "file_extension": ".py",
   "mimetype": "text/x-python",
   "name": "python",
   "nbconvert_exporter": "python",
   "pygments_lexer": "ipython3",
   "version": "3.6.4"
  }
 },
 "nbformat": 4,
 "nbformat_minor": 2
}
